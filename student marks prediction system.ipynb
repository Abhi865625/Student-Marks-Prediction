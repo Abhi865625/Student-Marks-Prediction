{
 "cells": [
  {
   "cell_type": "code",
   "execution_count": 1,
   "id": "dea2cf8e",
   "metadata": {},
   "outputs": [],
   "source": [
    "import pandas as pd\n",
    "from sklearn.linear_model import LinearRegression"
   ]
  },
  {
   "cell_type": "code",
   "execution_count": 2,
   "id": "91f49d28",
   "metadata": {},
   "outputs": [],
   "source": [
    "# Load the dataset into a Pandas DataFrame\n",
    "data = pd.read_csv('student_data.csv', encoding= 'unicode_escape')"
   ]
  },
  {
   "cell_type": "code",
   "execution_count": 3,
   "id": "8cc1b62b",
   "metadata": {},
   "outputs": [
    {
     "data": {
      "text/plain": [
       "(120, 5)"
      ]
     },
     "execution_count": 3,
     "metadata": {},
     "output_type": "execute_result"
    }
   ],
   "source": [
    "data.shape"
   ]
  },
  {
   "cell_type": "code",
   "execution_count": 27,
   "id": "b1c5550c",
   "metadata": {},
   "outputs": [
    {
     "data": {
      "text/html": [
       "<div>\n",
       "<style scoped>\n",
       "    .dataframe tbody tr th:only-of-type {\n",
       "        vertical-align: middle;\n",
       "    }\n",
       "\n",
       "    .dataframe tbody tr th {\n",
       "        vertical-align: top;\n",
       "    }\n",
       "\n",
       "    .dataframe thead th {\n",
       "        text-align: right;\n",
       "    }\n",
       "</style>\n",
       "<table border=\"1\" class=\"dataframe\">\n",
       "  <thead>\n",
       "    <tr style=\"text-align: right;\">\n",
       "      <th></th>\n",
       "      <th>student id</th>\n",
       "      <th>internal marks</th>\n",
       "      <th>external marks</th>\n",
       "      <th>total marks</th>\n",
       "      <th>final marks</th>\n",
       "    </tr>\n",
       "  </thead>\n",
       "  <tbody>\n",
       "    <tr>\n",
       "      <th>0</th>\n",
       "      <td>1</td>\n",
       "      <td>280</td>\n",
       "      <td>330</td>\n",
       "      <td>610</td>\n",
       "      <td>87.14</td>\n",
       "    </tr>\n",
       "    <tr>\n",
       "      <th>1</th>\n",
       "      <td>2</td>\n",
       "      <td>320</td>\n",
       "      <td>340</td>\n",
       "      <td>660</td>\n",
       "      <td>94.28</td>\n",
       "    </tr>\n",
       "    <tr>\n",
       "      <th>2</th>\n",
       "      <td>3</td>\n",
       "      <td>290</td>\n",
       "      <td>320</td>\n",
       "      <td>610</td>\n",
       "      <td>87.14</td>\n",
       "    </tr>\n",
       "    <tr>\n",
       "      <th>3</th>\n",
       "      <td>4</td>\n",
       "      <td>250</td>\n",
       "      <td>280</td>\n",
       "      <td>530</td>\n",
       "      <td>75.71</td>\n",
       "    </tr>\n",
       "    <tr>\n",
       "      <th>4</th>\n",
       "      <td>5</td>\n",
       "      <td>310</td>\n",
       "      <td>330</td>\n",
       "      <td>640</td>\n",
       "      <td>97.42</td>\n",
       "    </tr>\n",
       "  </tbody>\n",
       "</table>\n",
       "</div>"
      ],
      "text/plain": [
       "   student id  internal marks  external marks  total marks  final marks\n",
       "0           1             280             330          610        87.14\n",
       "1           2             320             340          660        94.28\n",
       "2           3             290             320          610        87.14\n",
       "3           4             250             280          530        75.71\n",
       "4           5             310             330          640        97.42"
      ]
     },
     "execution_count": 27,
     "metadata": {},
     "output_type": "execute_result"
    }
   ],
   "source": [
    "data.head()"
   ]
  },
  {
   "cell_type": "code",
   "execution_count": 5,
   "id": "35388801",
   "metadata": {},
   "outputs": [
    {
     "name": "stdout",
     "output_type": "stream",
     "text": [
      "<class 'pandas.core.frame.DataFrame'>\n",
      "RangeIndex: 120 entries, 0 to 119\n",
      "Data columns (total 5 columns):\n",
      " #   Column          Non-Null Count  Dtype  \n",
      "---  ------          --------------  -----  \n",
      " 0   student id      120 non-null    int64  \n",
      " 1   internal marks  120 non-null    int64  \n",
      " 2   external marks  120 non-null    int64  \n",
      " 3   total marks     120 non-null    int64  \n",
      " 4   final marks     120 non-null    float64\n",
      "dtypes: float64(1), int64(4)\n",
      "memory usage: 4.8 KB\n"
     ]
    }
   ],
   "source": [
    "data.info()"
   ]
  },
  {
   "cell_type": "code",
   "execution_count": 6,
   "id": "51c8fda1",
   "metadata": {},
   "outputs": [
    {
     "data": {
      "text/plain": [
       "student id        0\n",
       "internal marks    0\n",
       "external marks    0\n",
       "total marks       0\n",
       "final marks       0\n",
       "dtype: int64"
      ]
     },
     "execution_count": 6,
     "metadata": {},
     "output_type": "execute_result"
    }
   ],
   "source": [
    "#check for null values\n",
    "pd.isnull(data).sum()"
   ]
  },
  {
   "cell_type": "code",
   "execution_count": 7,
   "id": "cd991a42",
   "metadata": {},
   "outputs": [
    {
     "data": {
      "text/html": [
       "<div>\n",
       "<style scoped>\n",
       "    .dataframe tbody tr th:only-of-type {\n",
       "        vertical-align: middle;\n",
       "    }\n",
       "\n",
       "    .dataframe tbody tr th {\n",
       "        vertical-align: top;\n",
       "    }\n",
       "\n",
       "    .dataframe thead th {\n",
       "        text-align: right;\n",
       "    }\n",
       "</style>\n",
       "<table border=\"1\" class=\"dataframe\">\n",
       "  <thead>\n",
       "    <tr style=\"text-align: right;\">\n",
       "      <th></th>\n",
       "      <th>student id</th>\n",
       "      <th>internal marks</th>\n",
       "      <th>external marks</th>\n",
       "      <th>total marks</th>\n",
       "      <th>final marks</th>\n",
       "    </tr>\n",
       "  </thead>\n",
       "  <tbody>\n",
       "    <tr>\n",
       "      <th>count</th>\n",
       "      <td>120.000000</td>\n",
       "      <td>120.000000</td>\n",
       "      <td>120.000000</td>\n",
       "      <td>120.000000</td>\n",
       "      <td>120.000000</td>\n",
       "    </tr>\n",
       "    <tr>\n",
       "      <th>mean</th>\n",
       "      <td>60.500000</td>\n",
       "      <td>291.000000</td>\n",
       "      <td>311.666667</td>\n",
       "      <td>602.666667</td>\n",
       "      <td>86.145333</td>\n",
       "    </tr>\n",
       "    <tr>\n",
       "      <th>std</th>\n",
       "      <td>34.785054</td>\n",
       "      <td>21.435853</td>\n",
       "      <td>21.898672</td>\n",
       "      <td>42.421125</td>\n",
       "      <td>6.129185</td>\n",
       "    </tr>\n",
       "    <tr>\n",
       "      <th>min</th>\n",
       "      <td>1.000000</td>\n",
       "      <td>240.000000</td>\n",
       "      <td>250.000000</td>\n",
       "      <td>490.000000</td>\n",
       "      <td>70.000000</td>\n",
       "    </tr>\n",
       "    <tr>\n",
       "      <th>25%</th>\n",
       "      <td>30.750000</td>\n",
       "      <td>280.000000</td>\n",
       "      <td>290.000000</td>\n",
       "      <td>570.000000</td>\n",
       "      <td>81.420000</td>\n",
       "    </tr>\n",
       "    <tr>\n",
       "      <th>50%</th>\n",
       "      <td>60.500000</td>\n",
       "      <td>290.000000</td>\n",
       "      <td>320.000000</td>\n",
       "      <td>610.000000</td>\n",
       "      <td>87.140000</td>\n",
       "    </tr>\n",
       "    <tr>\n",
       "      <th>75%</th>\n",
       "      <td>90.250000</td>\n",
       "      <td>310.000000</td>\n",
       "      <td>330.000000</td>\n",
       "      <td>640.000000</td>\n",
       "      <td>91.420000</td>\n",
       "    </tr>\n",
       "    <tr>\n",
       "      <th>max</th>\n",
       "      <td>120.000000</td>\n",
       "      <td>330.000000</td>\n",
       "      <td>350.000000</td>\n",
       "      <td>670.000000</td>\n",
       "      <td>97.420000</td>\n",
       "    </tr>\n",
       "  </tbody>\n",
       "</table>\n",
       "</div>"
      ],
      "text/plain": [
       "       student id  internal marks  external marks  total marks  final marks\n",
       "count  120.000000      120.000000      120.000000   120.000000   120.000000\n",
       "mean    60.500000      291.000000      311.666667   602.666667    86.145333\n",
       "std     34.785054       21.435853       21.898672    42.421125     6.129185\n",
       "min      1.000000      240.000000      250.000000   490.000000    70.000000\n",
       "25%     30.750000      280.000000      290.000000   570.000000    81.420000\n",
       "50%     60.500000      290.000000      320.000000   610.000000    87.140000\n",
       "75%     90.250000      310.000000      330.000000   640.000000    91.420000\n",
       "max    120.000000      330.000000      350.000000   670.000000    97.420000"
      ]
     },
     "execution_count": 7,
     "metadata": {},
     "output_type": "execute_result"
    }
   ],
   "source": [
    "data.describe()"
   ]
  },
  {
   "cell_type": "code",
   "execution_count": 17,
   "id": "ad48a8c7",
   "metadata": {},
   "outputs": [],
   "source": [
    "# Split the dataset into features (X) and target (y) variables\n",
    "X = data[['internal marks', 'external marks']]\n",
    "y = data['final marks']"
   ]
  },
  {
   "cell_type": "code",
   "execution_count": null,
   "id": "8ebe6485",
   "metadata": {},
   "outputs": [],
   "source": [
    "# Create an instance of the LinearRegression class\n",
    "model = LinearRegression()"
   ]
  },
  {
   "cell_type": "code",
   "execution_count": null,
   "id": "d0797b26",
   "metadata": {},
   "outputs": [],
   "source": [
    "# Train the model on the entire dataset\n",
    "model.fit(X, y)"
   ]
  },
  {
   "cell_type": "code",
   "execution_count": 25,
   "id": "f1b1f66a",
   "metadata": {},
   "outputs": [],
   "source": [
    "# Predict the final marks for a student with 270 internal and 280 external marks\n",
    "new_data = {'internal marks': [240], 'external marks': [250]}\n",
    "new_X = pd.DataFrame(new_data)\n",
    "new_y = model.predict(new_X)"
   ]
  },
  {
   "cell_type": "code",
   "execution_count": 26,
   "id": "e8231226",
   "metadata": {},
   "outputs": [
    {
     "name": "stdout",
     "output_type": "stream",
     "text": [
      "Predicted final marks in perctange : 69.94\n"
     ]
    }
   ],
   "source": [
    "print(f'Predicted final marks in perctange : {new_y[0]:.2f}')"
   ]
  },
  {
   "cell_type": "code",
   "execution_count": null,
   "id": "5297168c",
   "metadata": {},
   "outputs": [],
   "source": []
  }
 ],
 "metadata": {
  "kernelspec": {
   "display_name": "Python 3 (ipykernel)",
   "language": "python",
   "name": "python3"
  },
  "language_info": {
   "codemirror_mode": {
    "name": "ipython",
    "version": 3
   },
   "file_extension": ".py",
   "mimetype": "text/x-python",
   "name": "python",
   "nbconvert_exporter": "python",
   "pygments_lexer": "ipython3",
   "version": "3.10.9"
  }
 },
 "nbformat": 4,
 "nbformat_minor": 5
}
